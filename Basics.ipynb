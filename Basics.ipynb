{
 "cells": [
  {
   "cell_type": "markdown",
   "metadata": {
    "collapsed": true
   },
   "source": [
    "Analyzing Hacker News to Find Posts With Highest Comments"
   ]
  },
  {
   "cell_type": "markdown",
   "metadata": {},
   "source": [
    "We will analyze and compare two types of posts on Hacker News, a website where users vote and comment on technology-related stories. The two types of posts we will investigate start with 'Ask HN' and 'Show HN'.\n",
    "\n",
    "Our objective is to compare these two types of posts and find which one receives more comments on average and if there is a specific time period when posts receive more comments on average. "
   ]
  },
  {
   "cell_type": "code",
   "execution_count": 6,
   "metadata": {},
   "outputs": [],
   "source": [
    "# Importing csv file and converting it into list of lists.\n",
    "\n",
    "from csv import reader\n",
    "opened_file = open('hacker_news.csv')\n",
    "read_file = reader(opened_file)\n",
    "hn = list(read_file)"
   ]
  },
  {
   "cell_type": "code",
   "execution_count": 7,
   "metadata": {},
   "outputs": [
    {
     "name": "stdout",
     "output_type": "stream",
     "text": [
      "[['id', 'title', 'url', 'num_points', 'num_comments', 'author', 'created_at'], ['12224879', 'Interactive Dynamic Video', 'http://www.interactivedynamicvideo.com/', '386', '52', 'ne0phyte', '8/4/2016 11:52'], ['10975351', 'How to Use Open Source and Shut the Fuck Up at the Same Time', 'http://hueniverse.com/2016/01/26/how-to-use-open-source-and-shut-the-fuck-up-at-the-same-time/', '39', '10', 'josep2', '1/26/2016 19:30'], ['11964716', \"Florida DJs May Face Felony for April Fools' Water Joke\", 'http://www.thewire.com/entertainment/2013/04/florida-djs-april-fools-water-joke/63798/', '2', '1', 'vezycash', '6/23/2016 22:20'], ['11919867', 'Technology ventures: From Idea to Enterprise', 'https://www.amazon.com/Technology-Ventures-Enterprise-Thomas-Byers/dp/0073523429', '3', '1', 'hswarna', '6/17/2016 0:01']]\n"
     ]
    }
   ],
   "source": [
    "#Exploring the data set\n",
    "\n",
    "print(hn[:5])"
   ]
  },
  {
   "cell_type": "code",
   "execution_count": 8,
   "metadata": {},
   "outputs": [
    {
     "name": "stdout",
     "output_type": "stream",
     "text": [
      "['id', 'title', 'url', 'num_points', 'num_comments', 'author', 'created_at']\n"
     ]
    }
   ],
   "source": [
    "# Assigning first row as header\n",
    "\n",
    "headers = hn[0]\n",
    "print(headers)"
   ]
  },
  {
   "cell_type": "code",
   "execution_count": 9,
   "metadata": {},
   "outputs": [
    {
     "name": "stdout",
     "output_type": "stream",
     "text": [
      "[['12224879', 'Interactive Dynamic Video', 'http://www.interactivedynamicvideo.com/', '386', '52', 'ne0phyte', '8/4/2016 11:52'], ['10975351', 'How to Use Open Source and Shut the Fuck Up at the Same Time', 'http://hueniverse.com/2016/01/26/how-to-use-open-source-and-shut-the-fuck-up-at-the-same-time/', '39', '10', 'josep2', '1/26/2016 19:30'], ['11964716', \"Florida DJs May Face Felony for April Fools' Water Joke\", 'http://www.thewire.com/entertainment/2013/04/florida-djs-april-fools-water-joke/63798/', '2', '1', 'vezycash', '6/23/2016 22:20'], ['11919867', 'Technology ventures: From Idea to Enterprise', 'https://www.amazon.com/Technology-Ventures-Enterprise-Thomas-Byers/dp/0073523429', '3', '1', 'hswarna', '6/17/2016 0:01'], ['10301696', 'Note by Note: The Making of Steinway L1037 (2007)', 'http://www.nytimes.com/2007/11/07/movies/07stein.html?_r=0', '8', '2', 'walterbell', '9/30/2015 4:12']]\n"
     ]
    }
   ],
   "source": [
    "# Removing header row from the list\n",
    "\n",
    "hn = hn[1:]\n",
    "print(hn[:5])     #Checking if header has been removed from list"
   ]
  },
  {
   "cell_type": "code",
   "execution_count": 10,
   "metadata": {},
   "outputs": [
    {
     "name": "stdout",
     "output_type": "stream",
     "text": [
      "1744\n",
      "1162\n",
      "17194\n"
     ]
    }
   ],
   "source": [
    "#Sorting the data set into three separate lists\n",
    "\n",
    "ask_posts = []          #For posts starting with Ask HN\n",
    "show_posts = []         #For posts starting with Show HN\n",
    "other_posts = []        #For all other posts\n",
    "\n",
    "for rows in hn:\n",
    "    title = rows[1]\n",
    "    if title.lower().startswith('ask hn'):\n",
    "        ask_posts.append(rows)\n",
    "    elif title.lower().startswith('show hn'):    \n",
    "        show_posts.append(rows)\n",
    "    else:\n",
    "        other_posts.append(rows)\n",
    "\n",
    "#Checking the number of posts under each category\n",
    "\n",
    "print(len(ask_posts))\n",
    "print(len(show_posts))\n",
    "print(len(other_posts))"
   ]
  },
  {
   "cell_type": "code",
   "execution_count": 11,
   "metadata": {},
   "outputs": [
    {
     "name": "stdout",
     "output_type": "stream",
     "text": [
      "24483\n",
      "14.038417431192661\n",
      "11988\n",
      "10.31669535283993\n"
     ]
    }
   ],
   "source": [
    "# Finding out number of comments for ask posts and show posts and their average\n",
    "\n",
    "total_ask_comments = 0\n",
    "total_show_comments = 0\n",
    "\n",
    "for i in ask_posts:\n",
    "    comments = int(i[4])\n",
    "    total_ask_comments += comments\n",
    "    avg_ask_comments = total_ask_comments / len(ask_posts)\n",
    "\n",
    "print(total_ask_comments)\n",
    "print(avg_ask_comments)\n",
    "\n",
    "for r in show_posts:\n",
    "    comments = int(r[4])\n",
    "    total_show_comments += comments\n",
    "    avg_show_comments = total_show_comments / len(show_posts)\n",
    "\n",
    "print(total_show_comments)\n",
    "print(avg_show_comments)"
   ]
  },
  {
   "cell_type": "markdown",
   "metadata": {},
   "source": [
    "On comparing the number of comments received and their average, we see that Ask HM posts receive more comments than Show HM posts. We will analyze only Ask HM posts further to find the hour in which most comments are received."
   ]
  },
  {
   "cell_type": "code",
   "execution_count": 12,
   "metadata": {},
   "outputs": [],
   "source": [
    "#Importing datetime module \n",
    "\n",
    "import datetime as dt"
   ]
  },
  {
   "cell_type": "code",
   "execution_count": 13,
   "metadata": {},
   "outputs": [
    {
     "name": "stdout",
     "output_type": "stream",
     "text": [
      "{'09': 45, '13': 85, '10': 59, '14': 107, '16': 108, '23': 68, '12': 73, '17': 100, '15': 116, '21': 109, '20': 80, '02': 58, '18': 109, '03': 54, '05': 46, '19': 110, '01': 60, '22': 71, '08': 48, '04': 47, '00': 55, '06': 44, '07': 34, '11': 58}\n",
      "{'09': 251, '13': 1253, '10': 793, '14': 1416, '16': 1814, '23': 543, '12': 687, '17': 1146, '15': 4477, '21': 1745, '20': 1722, '02': 1381, '18': 1439, '03': 421, '05': 464, '19': 1188, '01': 683, '22': 479, '08': 492, '04': 337, '00': 447, '06': 397, '07': 267, '11': 641}\n",
      "24\n"
     ]
    }
   ],
   "source": [
    "#Creating a list with dates and times of posts created and their respective number of comments\n",
    "\n",
    "result_list = []\n",
    "\n",
    "for items in ask_posts:\n",
    "    result_list.append([items[6], int(items[4])])\n",
    "\n",
    "#Creating dictionaries for number of posts and comments per hour\n",
    "\n",
    "counts_by_hour = {}\n",
    "comments_by_hour = {}\n",
    "\n",
    "for row in result_list:\n",
    "    cmmt_date = row[0]\n",
    "    cmmt_number = row[1]\n",
    "    cmmt_date = dt.datetime.strptime(cmmt_date, \"%m/%d/%Y %H:%M\")\n",
    "    cmmt_time = dt.datetime.strftime(cmmt_date, \"%H\")\n",
    "    \n",
    "    if cmmt_time not in counts_by_hour:\n",
    "        counts_by_hour[cmmt_time] = 1\n",
    "        comments_by_hour[cmmt_time] = cmmt_number\n",
    "    else:\n",
    "        counts_by_hour[cmmt_time] += 1\n",
    "        comments_by_hour[cmmt_time] += cmmt_number\n",
    "        \n",
    "print(counts_by_hour)  \n",
    "print(comments_by_hour)\n",
    "print(len(comments_by_hour))"
   ]
  },
  {
   "cell_type": "code",
   "execution_count": 14,
   "metadata": {},
   "outputs": [
    {
     "name": "stdout",
     "output_type": "stream",
     "text": [
      "[['09', 5.5777777777777775], ['13', 14.741176470588234], ['10', 13.440677966101696], ['14', 13.233644859813085], ['16', 16.796296296296298], ['23', 7.985294117647059], ['12', 9.41095890410959], ['17', 11.46], ['15', 38.5948275862069], ['21', 16.009174311926607], ['20', 21.525], ['02', 23.810344827586206], ['18', 13.20183486238532], ['03', 7.796296296296297], ['05', 10.08695652173913], ['19', 10.8], ['01', 11.383333333333333], ['22', 6.746478873239437], ['08', 10.25], ['04', 7.170212765957447], ['00', 8.127272727272727], ['06', 9.022727272727273], ['07', 7.852941176470588], ['11', 11.051724137931034]]\n"
     ]
    }
   ],
   "source": [
    "#Finding the average number of comments per hour\n",
    "\n",
    "avg_by_hour = []\n",
    "\n",
    "for keys in comments_by_hour:\n",
    "    avg = comments_by_hour[keys] / counts_by_hour[keys]\n",
    "    avg_by_hour.append([keys, avg])\n",
    "\n",
    "print(avg_by_hour)    "
   ]
  },
  {
   "cell_type": "code",
   "execution_count": 15,
   "metadata": {},
   "outputs": [
    {
     "name": "stdout",
     "output_type": "stream",
     "text": [
      "Top 5 Hours for Ask HN posts\n",
      "15:00 38.59 average comments per post\n",
      "02:00 23.81 average comments per post\n",
      "20:00 21.52 average comments per post\n",
      "16:00 16.80 average comments per post\n",
      "21:00 16.01 average comments per post\n"
     ]
    }
   ],
   "source": [
    "#Creating a list with average as first element and hour as second element\n",
    "\n",
    "swap_avg_by_hour = []\n",
    "\n",
    "for rows in avg_by_hour:\n",
    "    swap_avg_by_hour.append([rows[1], rows[0]])  \n",
    "\n",
    "#Sorting the list in descending order to find top five hours\n",
    "\n",
    "sorted_swap = sorted(swap_avg_by_hour, reverse = True)\n",
    "\n",
    "#Formatting hour and average\n",
    "\n",
    "print(\"Top 5 Hours for Ask HN posts\")\n",
    "for row in sorted_swap[:5]:\n",
    "    time = row[1]\n",
    "    avg_comm = row[0]\n",
    "    time = dt.datetime.strptime(time, \"%H\").strftime(\"%H:%M\")\n",
    "    print(\"{} {:.2f} average comments per post\".format(time, avg_comm))"
   ]
  },
  {
   "cell_type": "markdown",
   "metadata": {},
   "source": [
    "We see that posting Ask HN posts by 3 p.m. EST receives higher comments on average with 38.59%."
   ]
  },
  {
   "cell_type": "markdown",
   "metadata": {},
   "source": [
    "Based on our analysis, we are concluding that Ask HN posts receive higher average comments when posted at 3 p.m. EST."
   ]
  }
 ],
 "metadata": {
  "kernelspec": {
   "display_name": "Python 3",
   "language": "python",
   "name": "python3"
  },
  "language_info": {
   "codemirror_mode": {
    "name": "ipython",
    "version": 3
   },
   "file_extension": ".py",
   "mimetype": "text/x-python",
   "name": "python",
   "nbconvert_exporter": "python",
   "pygments_lexer": "ipython3",
   "version": "3.8.2"
  }
 },
 "nbformat": 4,
 "nbformat_minor": 2
}
